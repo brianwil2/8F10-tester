{
 "metadata": {
  "name": "",
  "signature": "sha256:b201a732435f6931dff462e7a87ea69d65abb0d01e0d8f0ea07cc3252e48a114"
 },
 "nbformat": 3,
 "nbformat_minor": 0,
 "worksheets": [
  {
   "cells": [
    {
     "cell_type": "code",
     "collapsed": false,
     "input": [
      "import sys, numpy\n",
      "sys.path.append('C:\\Python_Projects\\Modules')\n",
      "import matplotlib.pyplot as plt\n",
      "import os\n",
      "os.chdir('U:\\Brian Williams\\Jobs\\Radiometrics\\Repair_59GHz\\DAQ_Data\\Final_Data\\Unit_8F10' )\n",
      "import Radiometrics_FileRead as lt\n",
      "import Radiometrics_FileRead_Time as ltt"
     ],
     "language": "python",
     "metadata": {},
     "outputs": [
      {
       "output_type": "stream",
       "stream": "stdout",
       "text": [
        "Radiometrics Read File Version 1.3 (4/11/2017) Loaded on 07/23/2017 at 13:02\n",
        "Radiometrics Read File Version 1.53 (7/17/2017) Loaded on 07/23/2017 at 13:02\n"
       ]
      }
     ],
     "prompt_number": 1
    },
    {
     "cell_type": "code",
     "collapsed": false,
     "input": [
      "plt.figure(figsize=(15.5, 9.0)) \n",
      "plt.suptitle('Unit 417-5160 (S/N: 8F10) LO at 13.0 GHz Test for Spacek Spikes All Offset Voltages Removed')\n",
      "plt.plot(SCRN5['Vout'][0:5000], label='Vout',color='red')\n",
      "plt.ylabel('Signal Level (V)')\n",
      "plt.xlabel('Time (hours)')\n",
      "plt.title('8F10 w/ New IF Amp Fully Integrated')\n",
      "plt.grid(True)\n",
      "plt.legend( loc='lower right',prop={'size':9})\n",
      "plt.show()"
     ],
     "language": "python",
     "metadata": {},
     "outputs": [],
     "prompt_number": 17
    },
    {
     "cell_type": "code",
     "collapsed": false,
     "input": [
      "SCRN1=lt.GetRMFile('.\\InScreen_8F10_LO12p8_7-13-17.txt', 0)"
     ],
     "language": "python",
     "metadata": {},
     "outputs": [
      {
       "output_type": "stream",
       "stream": "stdout",
       "text": [
        "Used Current version (5/03/2017) of Code with File: .\\InScreen_8F10_LO12p8_7-13-17.txt  Loaded on: 07/19/2017 at 11:30 223515  5587\n"
       ]
      }
     ],
     "prompt_number": 2
    },
    {
     "cell_type": "code",
     "collapsed": false,
     "input": [
      "###       SYSTEM IN SCREEN ROOM WITH FUll SYSTEM test including ND on/off with door closed \n",
      "###  This data set and setup has everything for 0J03. Temperature sensor is hanging out in ambient (AIN2)\n",
      "###      Bias Voltage is monitored on Vmisc (AIN4).  LO @ 12.8 GHz\n",
      "\n",
      "plt.figure(figsize=(15.5, 9.0)) \n",
      "plt.suptitle('Unit 417-5160 (S/N: 8F10) LO at 12.80 GHz Test for Spacek Spikes All Offset Voltages Removed')\n",
      "plt.subplot(311)\n",
      "plt.plot(SCRN1['Vout']-numpy.mean(SCRN1['Vout']), label='Vout',color='red')\n",
      "plt.ylabel('Signal Level (V)')\n",
      "#plt.xlabel('Sample Number')\n",
      "plt.axis([0,223000,-0.1,0.1])\n",
      "plt.title('8F10 w/ New IF Amp Fully Integrated')\n",
      "plt.grid(True)\n",
      "plt.legend( loc='lower right',prop={'size':9})\n",
      "\n",
      "plt.subplot(312)\n",
      "plt.plot(SCRN1['Vdiff']-numpy.mean(SCRN1['Vdiff']), label='Diffference Voltage',color='blue')\n",
      "plt.ylabel('Signal Level (V)')\n",
      "plt.axis([0,5500,-0.01,0.01])\n",
      "plt.grid(True)\n",
      "plt.legend( loc='lower right',prop={'size':9})\n",
      "\n",
      "ax1=plt.subplot(313)\n",
      "ax2=ax1.twinx()\n",
      "ax1.plot(SCRN1['Vref']-numpy.mean(SCRN1['Vref']), label='Ref Voltage',color='orange')\n",
      "ax2.plot(SCRN1['Temp1Cal'], label='Temp',color='green')\n",
      "ax2.set_ylabel(r'Temperature ($^\\circ C$)')\n",
      "ax1.set_ylabel('Signal Level (V)')\n",
      "ax1.set_xlabel('Sample Number')\n",
      "#plt.title('0J03 w/ with screen room door open')\n",
      "ax2.axis([0,223000,18,26])\n",
      "ax1.axis([0,223000,-0.005,0.005])\n",
      "ax1.grid(True)\n",
      "ax1.legend( loc='lower right',prop={'size':9})\n",
      "ax2.legend( loc='upper right',prop={'size':9})\n",
      "\n",
      "#plt.tight_layout()\n",
      "plt.show()"
     ],
     "language": "python",
     "metadata": {},
     "outputs": [],
     "prompt_number": 23
    },
    {
     "cell_type": "code",
     "collapsed": false,
     "input": [
      "SCRN2=lt.GetRMFile('.\\InScreen_8F10_LO13p5_7-14-17.txt', 0)"
     ],
     "language": "python",
     "metadata": {},
     "outputs": [
      {
       "output_type": "stream",
       "stream": "stdout",
       "text": [
        "Used Current version (5/03/2017) of Code with File: .\\InScreen_8F10_LO13p5_7-14-17.txt  Loaded on: 07/19/2017 at 11:38 358158  8953\n"
       ]
      }
     ],
     "prompt_number": 4
    },
    {
     "cell_type": "code",
     "collapsed": false,
     "input": [
      "###       SYSTEM IN SCREEN ROOM WITH FUll SYSTEM test including ND on/off with door closed \n",
      "###  This data set and setup has everything for 0J03. Temperature sensor is hanging out in ambient (AIN2)\n",
      "###      Bias Voltage is monitored on Vmisc (AIN4).  LO @ 13.5 GHz\n",
      "\n",
      "plt.figure(figsize=(15.5, 9.0)) \n",
      "plt.suptitle('Unit 417-5160 (S/N: 8F10) LO at 13.5 GHz Test for Spacek Spikes All Offset Voltages Removed')\n",
      "plt.subplot(311)\n",
      "plt.plot(SCRN2['Vout']-numpy.mean(SCRN2['Vout']), label='Vout',color='red')\n",
      "plt.ylabel('Signal Level (V)')\n",
      "#plt.xlabel('Sample Number')\n",
      "plt.axis([0,358000,-0.1,0.1])\n",
      "plt.title('8F10 w/ New IF Amp Fully Integrated')\n",
      "plt.grid(True)\n",
      "plt.legend( loc='lower right',prop={'size':9})\n",
      "\n",
      "plt.subplot(312)\n",
      "plt.plot(SCRN2['Vdiff']-numpy.mean(SCRN2['Vdiff']), label='Diffference Voltage',color='blue')\n",
      "plt.ylabel('Signal Level (V)')\n",
      "plt.axis([0,8900,-0.01,0.01])\n",
      "plt.grid(True)\n",
      "plt.legend( loc='lower right',prop={'size':9})\n",
      "\n",
      "ax1=plt.subplot(313)\n",
      "ax2=ax1.twinx()\n",
      "ax1.plot(SCRN2['Vref']-numpy.mean(SCRN2['Vref']), label='Ref Voltage',color='orange')\n",
      "ax2.plot(SCRN2['Temp1Cal'], label='Temp',color='green')\n",
      "ax2.set_ylabel(r'Temperature ($^\\circ C$)')\n",
      "ax1.set_ylabel('Signal Level (V)')\n",
      "ax1.set_xlabel('Sample Number')\n",
      "#plt.title('0J03 w/ with screen room door open')\n",
      "ax2.axis([0,358000,18,26])\n",
      "ax1.axis([0,358000,-0.005,0.005])\n",
      "ax1.grid(True)\n",
      "ax1.legend( loc='lower right',prop={'size':9})\n",
      "ax2.legend( loc='upper right',prop={'size':9})\n",
      "\n",
      "#plt.tight_layout()\n",
      "plt.show()"
     ],
     "language": "python",
     "metadata": {},
     "outputs": [],
     "prompt_number": 24
    },
    {
     "cell_type": "code",
     "collapsed": false,
     "input": [
      "SCRN3=ltt.GetRMFile('.\\InScreen_8F10_LO14_7-1517.txt', 0)"
     ],
     "language": "python",
     "metadata": {},
     "outputs": [
      {
       "output_type": "stream",
       "stream": "stdout",
       "text": [
        "42356\n",
        "Used Current version (7/17/2017 time) of Code with File: .\\InScreen_8F10_LO14_7-1517.txt  Loaded on: 07/19/2017 at 14:32 184352  4608\n"
       ]
      }
     ],
     "prompt_number": 2
    },
    {
     "cell_type": "code",
     "collapsed": false,
     "input": [
      "###       SYSTEM IN SCREEN ROOM WITH FUll SYSTEM test including ND on/off with door closed \n",
      "###  This data set and setup has everything for 0J03. Temperature sensor is hanging out in ambient (AIN2)\n",
      "###      Bias Voltage is monitored on Vmisc (AIN4).  LO @ 14.0 GHz\n",
      "print max((SCRN3['Time']-SCRN3['Time'][0])/3600.0)\n",
      "\n",
      "plt.figure(figsize=(15.5, 9.0)) \n",
      "plt.suptitle('Unit 417-5160 (S/N: 8F10) LO at 14.0 GHz Test for Spacek Spikes All Offset Voltages Removed')\n",
      "plt.subplot(311)\n",
      "plt.plot((SCRN3['Time']-SCRN3['Time'][0])/3600.0,SCRN3['Vout']-numpy.mean(SCRN3['Vout']), label='Vout',color='red')\n",
      "plt.ylabel('Signal Level (V)')\n",
      "plt.xlabel('Time (hours)')\n",
      "plt.axis([0,16,-0.1,0.1])\n",
      "plt.title('8F10 w/ New IF Amp Fully Integrated')\n",
      "plt.grid(True)\n",
      "plt.legend( loc='lower right',prop={'size':9})\n",
      "\n",
      "ax1=plt.subplot(312)\n",
      "ax2=ax1.twinx()\n",
      "ax1.plot((SCRN3['Time']-SCRN3['Time'][0])/3600.0,SCRN3['Vref']-numpy.mean(SCRN3['Vref']), label='Ref Voltage',color='orange')\n",
      "ax2.plot((SCRN3['Time']-SCRN3['Time'][0])/3600.0,SCRN3['Temp1Cal'], label='Temp',color='green')\n",
      "ax2.set_ylabel(r'Temperature ($^\\circ C$)')\n",
      "ax1.set_ylabel('Signal Level (V)')\n",
      "ax1.set_xlabel('Time(hours)')\n",
      "#plt.title('0J03 w/ with screen room door open')\n",
      "ax2.axis([0,16,18,26])\n",
      "ax1.axis([0,16,-0.005,0.005])\n",
      "ax1.grid(True)\n",
      "ax1.legend( loc='lower right',prop={'size':9})\n",
      "ax2.legend( loc='upper right',prop={'size':9})\n",
      "\n",
      "plt.subplot(313)\n",
      "plt.plot(SCRN3['Vdiff']-numpy.mean(SCRN3['Vdiff']), label='Diffference Voltage',color='blue')\n",
      "plt.ylabel('Signal Level (V)')\n",
      "plt.xlabel('Sample Number')\n",
      "plt.axis([0,4600,-0.01,0.01])\n",
      "plt.grid(True)\n",
      "plt.legend( loc='lower right',prop={'size':9})\n",
      "\n",
      "\n",
      "#plt.tight_layout()\n",
      "plt.show()"
     ],
     "language": "python",
     "metadata": {},
     "outputs": [
      {
       "output_type": "stream",
       "stream": "stdout",
       "text": [
        "15.7563888889\n"
       ]
      }
     ],
     "prompt_number": 11
    },
    {
     "cell_type": "code",
     "collapsed": false,
     "input": [
      "SCRN4=ltt.GetRMFile('.\\InScreen_8F10_LO14p7_7-16-17.txt', 0)"
     ],
     "language": "python",
     "metadata": {},
     "outputs": [
      {
       "output_type": "stream",
       "stream": "stdout",
       "text": [
        "116028\n",
        "Used Current version (7/17/2017 time) of Code with File: .\\InScreen_8F10_LO14p7_7-16-17.txt  Loaded on: 07/19/2017 at 14:42 217661  5441\n"
       ]
      }
     ],
     "prompt_number": 12
    },
    {
     "cell_type": "code",
     "collapsed": false,
     "input": [
      "###       SYSTEM IN SCREEN ROOM WITH FUll SYSTEM test including ND on/off with door closed \n",
      "###  This data set and setup has everything for 0J03. Temperature sensor is hanging out in ambient (AIN2)\n",
      "###      Bias Voltage is monitored on Vmisc (AIN4).  LO @ 14.7 GHz\n",
      "print max((SCRN4['Time']-SCRN4['Time'][0])/3600.0)\n",
      "\n",
      "plt.figure(figsize=(15.5, 9.0)) \n",
      "plt.suptitle('Unit 417-5160 (S/N: 8F10) LO at 14.7 GHz Test for Spacek Spikes All Offset Voltages Removed')\n",
      "plt.subplot(311)\n",
      "plt.plot((SCRN4['Time']-SCRN4['Time'][0])/3600.0,SCRN4['Vout']-numpy.mean(SCRN4['Vout']), label='Vout',color='red')\n",
      "plt.ylabel('Signal Level (V)')\n",
      "plt.xlabel('Time (hours)')\n",
      "plt.axis([0,19,-0.1,0.1])\n",
      "plt.title('8F10 w/ New IF Amp Fully Integrated')\n",
      "plt.grid(True)\n",
      "plt.legend( loc='lower right',prop={'size':9})\n",
      "\n",
      "ax1=plt.subplot(312)\n",
      "ax2=ax1.twinx()\n",
      "ax1.plot((SCRN4['Time']-SCRN4['Time'][0])/3600.0,SCRN4['Vref']-numpy.mean(SCRN4['Vref']), label='Ref Voltage',color='orange')\n",
      "ax2.plot((SCRN4['Time']-SCRN4['Time'][0])/3600.0,SCRN4['Temp1Cal'], label='Temp',color='green')\n",
      "ax2.set_ylabel(r'Temperature ($^\\circ C$)')\n",
      "ax1.set_ylabel('Signal Level (V)')\n",
      "ax1.set_xlabel('Time(hours)')\n",
      "#plt.title('0J03 w/ with screen room door open')\n",
      "ax2.axis([0,19,18,26])\n",
      "ax1.axis([0,19,-0.005,0.005])\n",
      "ax1.grid(True)\n",
      "ax1.legend( loc='lower right',prop={'size':9})\n",
      "ax2.legend( loc='upper right',prop={'size':9})\n",
      "\n",
      "plt.subplot(313)\n",
      "plt.plot(SCRN4['Vdiff']-numpy.mean(SCRN4['Vdiff']), label='Diffference Voltage',color='blue')\n",
      "plt.ylabel('Signal Level (V)')\n",
      "plt.xlabel('Sample Number')\n",
      "plt.axis([0,5400,-0.01,0.01])\n",
      "plt.grid(True)\n",
      "plt.legend( loc='lower right',prop={'size':9})\n",
      "\n",
      "\n",
      "#plt.tight_layout()\n",
      "plt.show()"
     ],
     "language": "python",
     "metadata": {},
     "outputs": [
      {
       "output_type": "stream",
       "stream": "stdout",
       "text": [
        "18.5628333333\n"
       ]
      }
     ],
     "prompt_number": 16
    },
    {
     "cell_type": "code",
     "collapsed": false,
     "input": [
      "SCRN5=ltt.GetRMFile('.\\InScreen_8F10_LO13_7-18-17.txt', 0)"
     ],
     "language": "python",
     "metadata": {},
     "outputs": [
      {
       "output_type": "stream",
       "stream": "stdout",
       "text": [
        "Used Current version (7/17/2017 time) of Code with File: .\\InScreen_8F10_LO13_7-18-17.txt  Loaded on: 07/23/2017 at 13:02 200457  5011\n"
       ]
      }
     ],
     "prompt_number": 2
    },
    {
     "cell_type": "code",
     "collapsed": false,
     "input": [
      "###       SYSTEM IN SCREEN ROOM WITH FUll SYSTEM test including ND on/off with door closed \n",
      "###  This data set and setup has everything for 0J03. Temperature sensor is hanging out in ambient (AIN2)\n",
      "###      Bias Voltage is monitored on Vmisc (AIN4).  LO @ 13 GHz\n",
      "print max((SCRN5['Time']-SCRN5['Time'][0])/3600.0)\n",
      "\n",
      "plt.figure(figsize=(15.5, 9.0)) \n",
      "plt.suptitle('Unit 417-5160 (S/N: 8F10) LO at 13.0 GHz Test for Spacek Spikes All Offset Voltages Removed')\n",
      "plt.subplot(311)\n",
      "plt.plot((SCRN5['Time']-SCRN5['Time'][0])/3600.0,SCRN5['Vout']-numpy.mean(SCRN5['Vout']), label='Vout',color='red')\n",
      "plt.ylabel('Signal Level (V)')\n",
      "plt.xlabel('Time (hours)')\n",
      "plt.axis([0,17,-0.1,0.1])\n",
      "plt.title('8F10 w/ New IF Amp Fully Integrated')\n",
      "plt.grid(True)\n",
      "plt.legend( loc='lower right',prop={'size':9})\n",
      "\n",
      "ax1=plt.subplot(312)\n",
      "ax2=ax1.twinx()\n",
      "ax1.plot((SCRN5['Time']-SCRN5['Time'][0])/3600.0,SCRN5['Vref']-numpy.mean(SCRN5['Vref']), label='Ref Voltage',color='orange')\n",
      "ax2.plot((SCRN5['Time']-SCRN5['Time'][0])/3600.0,SCRN5['Temp1Cal'], label='Temp',color='green')\n",
      "ax2.set_ylabel(r'Temperature ($^\\circ C$)')\n",
      "ax1.set_ylabel('Signal Level (V)')\n",
      "ax1.set_xlabel('Time(hours)')\n",
      "#plt.title('0J03 w/ with screen room door open')\n",
      "ax2.axis([0,17,18,26])\n",
      "ax1.axis([0,17,-0.005,0.005])\n",
      "ax1.grid(True)\n",
      "ax1.legend( loc='lower right',prop={'size':9})\n",
      "ax2.legend( loc='upper left',prop={'size':9})\n",
      "\n",
      "plt.subplot(313)\n",
      "plt.plot(SCRN5['Vdiff']-numpy.mean(SCRN5['Vdiff']), label='Diffference Voltage',color='blue')\n",
      "plt.ylabel('Signal Level (V)')\n",
      "plt.xlabel('Sample Number')\n",
      "plt.axis([0,5000,-0.01,0.01])\n",
      "plt.grid(True)\n",
      "plt.legend( loc='lower right',prop={'size':9})\n",
      "\n",
      "\n",
      "#plt.tight_layout()\n",
      "plt.show()"
     ],
     "language": "python",
     "metadata": {},
     "outputs": [
      {
       "output_type": "stream",
       "stream": "stdout",
       "text": [
        "17.0903611111\n"
       ]
      }
     ],
     "prompt_number": 11
    },
    {
     "cell_type": "code",
     "collapsed": false,
     "input": [
      "print len(SCRN5['Time'])/ ((max(SCRN5['Time'])-min(SCRN5['Time'])))"
     ],
     "language": "python",
     "metadata": {},
     "outputs": [
      {
       "output_type": "stream",
       "stream": "stdout",
       "text": [
        "3.25812308107\n"
       ]
      }
     ],
     "prompt_number": 8
    },
    {
     "cell_type": "code",
     "collapsed": false,
     "input": [
      "SCRN6=ltt.GetRMFile('.\\InScreen_8F10_LO13p4_7-17-17.txt', 0)\n"
     ],
     "language": "python",
     "metadata": {},
     "outputs": [
      {
       "output_type": "stream",
       "stream": "stdout",
       "text": [
        "Used Current version (7/17/2017 time) of Code with File: .\\InScreen_8F10_LO13p4_7-17-17.txt  Loaded on: 07/23/2017 at 13:15 184842  4621\n",
        "3.25812308107"
       ]
      },
      {
       "output_type": "stream",
       "stream": "stdout",
       "text": [
        "\n"
       ]
      }
     ],
     "prompt_number": 12
    },
    {
     "cell_type": "code",
     "collapsed": false,
     "input": [
      "print len(SCRN6['Time'])/ ((max(SCRN6['Time'])-min(SCRN6['Time'])))"
     ],
     "language": "python",
     "metadata": {},
     "outputs": [
      {
       "output_type": "stream",
       "stream": "stdout",
       "text": [
        "3.26037951508\n"
       ]
      }
     ],
     "prompt_number": 13
    },
    {
     "cell_type": "code",
     "collapsed": false,
     "input": [
      "###       SYSTEM IN SCREEN ROOM WITH FUll SYSTEM test including ND on/off with door closed \n",
      "###  This data set and setup has everything for 0J03. Temperature sensor is hanging out in ambient (AIN2)\n",
      "###      Bias Voltage is monitored on Vmisc (AIN4).  LO @ 13.4 GHz\n",
      "print max((SCRN5['Time']-SCRN5['Time'][0])/3600.0)\n",
      "\n",
      "plt.figure(figsize=(15.5, 9.0)) \n",
      "plt.suptitle('Unit 417-5160 (S/N: 8F10) LO at 13.4 GHz Test for Spacek Spikes All Offset Voltages Removed')\n",
      "plt.subplot(311)\n",
      "plt.plot((SCRN6['Time']-SCRN6['Time'][0])/3600.0,SCRN6['Vout']-numpy.mean(SCRN6['Vout']), label='Vout',color='red')\n",
      "plt.ylabel('Signal Level (V)')\n",
      "plt.xlabel('Time (hours)')\n",
      "plt.axis([0,15,-0.1,0.1])\n",
      "plt.title('8F10 w/ New IF Amp Fully Integrated')\n",
      "plt.grid(True)\n",
      "plt.legend( loc='lower right',prop={'size':9})\n",
      "\n",
      "ax1=plt.subplot(312)\n",
      "ax2=ax1.twinx()\n",
      "ax1.plot((SCRN6['Time']-SCRN6['Time'][0])/3600.0,SCRN6['Vref']-numpy.mean(SCRN6['Vref']), label='Ref Voltage',color='orange')\n",
      "ax2.plot((SCRN6['Time']-SCRN6['Time'][0])/3600.0,SCRN6['Temp1Cal'], label='Temp',color='green')\n",
      "ax2.set_ylabel(r'Temperature ($^\\circ C$)')\n",
      "ax1.set_ylabel('Signal Level (V)')\n",
      "ax1.set_xlabel('Time(hours)')\n",
      "#plt.title('0J03 w/ with screen room door open')\n",
      "ax2.axis([0,15,18,26])\n",
      "ax1.axis([0,15,-0.005,0.005])\n",
      "ax1.grid(True)\n",
      "ax1.legend( loc='lower right',prop={'size':9})\n",
      "ax2.legend( loc='upper left',prop={'size':9})\n",
      "\n",
      "plt.subplot(313)\n",
      "plt.plot(SCRN5['Vdiff']-numpy.mean(SCRN6['Vdiff']), label='Diffference Voltage',color='blue')\n",
      "plt.ylabel('Signal Level (V)')\n",
      "plt.xlabel('Sample Number')\n",
      "plt.axis([0,4600,-0.01,0.01])\n",
      "plt.grid(True)\n",
      "plt.legend( loc='lower right',prop={'size':9})\n",
      "\n",
      "\n",
      "#plt.tight_layout()\n",
      "plt.show()"
     ],
     "language": "python",
     "metadata": {},
     "outputs": [
      {
       "output_type": "stream",
       "stream": "stdout",
       "text": [
        "17.0903611111\n"
       ]
      }
     ],
     "prompt_number": 20
    },
    {
     "cell_type": "code",
     "collapsed": false,
     "input": [
      "print max((SCRN6['Time']-SCRN6['Time'][0])/3600.0)"
     ],
     "language": "python",
     "metadata": {},
     "outputs": [
      {
       "output_type": "stream",
       "stream": "stdout",
       "text": [
        "15.7481666667\n"
       ]
      }
     ],
     "prompt_number": 18
    },
    {
     "cell_type": "code",
     "collapsed": false,
     "input": [],
     "language": "python",
     "metadata": {},
     "outputs": []
    }
   ],
   "metadata": {}
  }
 ]
}